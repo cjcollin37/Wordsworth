{
 "cells": [
  {
   "attachments": {},
   "cell_type": "markdown",
   "metadata": {},
   "source": [
    "### This blog serves as a space to track progress made with Dr. Robin Wordsworth and for me to brainstorm ideas.\n",
    "\n",
    "### Broad scope goals:\n",
    "- Characterize atmospheric ozone chemistry in a system where the OH abundance is prescribed\n",
    "- Use a vertically-resolved 1D chemistry model with diffusion to calculate the ozone column abundance on Earth-like exoplanets with varying atmospheric pressure, O2 abundance, and received stellar fluxes\n",
    "- Investigate the observability of ozone in these cases and the extent to which this may allow us to retrieve info on total atmospheric pressure and O2 abundance on such planets\n",
    "\n",
    "#### These goals are motivated by prior work that assesses the robustness of detectable atmospheric molecular oxygen as a biosignature. Oxygen on Earth is in thermodynamic disequilibrium, indicative of a replenishing source. That source is largely biotic on Earth. It has been suggested that oxygen may also be formed abiotically in low pressure environments.\n",
    "\n",
    "#### A photochemical byproduct of molecular oxygen is ozone, largely produced by photolysis of molecular oxygen in the UV and subsequent oxidation of ozone by atomic oxygen. Ozone is likely quite scarce in low-pressure, Earth-like atmospheres, even in the presence of oxygen, due to higher water concentrations in the upper atmosphere. However, it may still be detectable.\n",
    "\n",
    "### Research questions:\n",
    "- Can ozone abundance be used as a proxy for atmospheric surface pressure in some cases?\n",
    "- How does ozone behave in a range of planetary conditions?\n",
    "    - Characterize ozone chemistry in a range of atmospheres with different pressures, stellar flux distributions, temperatures, aerosol/haze/cloud abundances, molecular abundances, etc.\n",
    "\n",
    "### Week 1\n",
    "- Completed Chapter 10: Stratospheric Ozone in 'Intro to Atmospheric Chemistry' by Daniel Jacobs.\n",
    "    - Outlines the Chapman mechanism for photolytic production/degradation of ozone and atomic oxygen. This mechanism could not account for lower observed ozone levels in the stratosphere (factor of about 2). Many ozone sinks were discovered that could explain the discrepancy. These sinks primarily consist of catalytic degradation cycles involving hydrogen oxide radicals (HOx), nitrogen oxide radicals (NOx/NOy), chlorine radicals (ClOx/Cly), and in the antarctic spring, ClO dimerization and bromine radicals - both feeding into the ClOx/Cly catalytic cycles. The chapter also discusses the importance of aerosol chemistry in explaining the unexpected ozone loss at midlatitudes in previous decades. Dinitrogen pentoxide rapidly reacts with water on aerosol surfaces to produce nitric acid. This ultimately slows ozone degradation by NOx but increases it by ClOx and HOx cycles.\n",
    "    \n",
    "    \n",
    "### Week 2\n",
    "\n",
    "Meeting w/ Dr. Wordsworth July 2, 2020\n",
    "\n",
    "- Chapter 10 problems\n",
    "    - Builds intuition – useful and worthwhile.\n",
    "    - Radiation is attenuated not like Beer’s law because the air density increases exponentially with decreasing altitude. Hydrostatic balance – pressure and gravity. Look at this in the text. Barometric law is same as hydrostatic equilibrium. Chapter 2 covers this. Equation 2.12 is density in terms of (z), the missing piece of the puzzle for first Chapter 10.\n",
    "    - Another exercise is to take the derivative of the function and find extreme to find the altitude of maximum photolysis rate.\n",
    "    - 10.3 – can ignore for now.\n",
    "\n",
    "- Moving on to next steps – the model\n",
    "    - Would like to look at Chapman mech and just HOx for now for simple model.\n",
    "    - Working w/ matlab for first 1D model, currently working.\n",
    "    - Would like to move to Python. Needs a few weeks to get it into Python. Start with 0-D model.\n",
    "        - 2 parts – chemistry and atmospheric transport, 1D vs 0-D difficulties\n",
    "    - In the meantime – work on problems and read more. Also look at the cross section website - http://satellite.mpic.de/spectral_atlas\n",
    "        - Find ozone cross sections, download them, plot them (w/ Python), look at how photolysis rates are functions of altitude. \n",
    "        - Get cross section, use w/ stellar spectrum data, then get ozone reaction rates.\n",
    "        - Note to self: these cross sections don’t account for scattering. Robin’s mental model: photon = bullet, molecule = target, if the photon hits the cross section (cm^2/molecule), absorption occurs. \n",
    "        - Robin will also send some spectral data to incorporate. "
   ]
  },
  {
   "cell_type": "code",
   "execution_count": null,
   "metadata": {},
   "outputs": [],
   "source": []
  }
 ],
 "metadata": {
  "kernelspec": {
   "display_name": "Python 3",
   "language": "python",
   "name": "python3"
  },
  "language_info": {
   "codemirror_mode": {
    "name": "ipython",
    "version": 3
   },
   "file_extension": ".py",
   "mimetype": "text/x-python",
   "name": "python",
   "nbconvert_exporter": "python",
   "pygments_lexer": "ipython3",
   "version": "3.7.3"
  }
 },
 "nbformat": 4,
 "nbformat_minor": 2
}
