{
 "cells": [
  {
   "cell_type": "markdown",
   "metadata": {},
   "source": [
    "### This blog serves as a space to track progress made with Dr. Robin Wordsworth and for me to brainstorm ideas.\n",
    "\n",
    "### Broad scope goals:\n",
    "- Characterize atmospheric ozone chemistry in a system where the OH abundance is prescribed\n",
    "- Use a vertically-resolved 1D chemistry model with diffusion to calculate the ozone column abundance on Earth-like exoplanets with varying atmospheric pressure, O2 abundance, and received stellar fluxes\n",
    "- Investigate the observability of ozone in these cases and the extent to which this may allow us to retrieve info on total atmospheric pressure and O2 abundance on such planets\n",
    "\n",
    "#### These goals are motivated by prior work that assesses the robustness of detectable atmospheric molecular oxygen as a biosignature. Oxygen on Earth is in thermodynamic disequilibrium, indicative of a replenishing source. That source is largely biotic on Earth. It has been suggested that oxygen may also be formed abiotically in low pressure environments.\n",
    "\n",
    "#### A photochemical byproduct of molecular oxygen is ozone, largely produced by photolysis of molecular oxygen in the UV and subsequent oxidation of ozone by atomic oxygen. Ozone is likely quite scarce in low-pressure, Earth-like atmospheres, even in the presence of oxygen, due to higher water concentrations in the upper atmosphere. However, it may still be detectable.\n",
    "\n",
    "### Research questions:\n",
    "- Can ozone abundance be used as a proxy for atmospheric surface pressure in some cases?\n",
    "- How does ozone behave in a range of planetary conditions?\n",
    "    - Characterize ozone chemistry in a range of atmospheres with different pressures, stellar flux distributions, temperatures, aerosol/haze/cloud abundances, molecular abundances, etc.\n",
    "\n",
    "### Week 1\n",
    "- Completed Chapter 10: Stratospheric Ozone in 'Intro to Atmospheric Chemistry' by Daniel Jacobs.\n",
    "    - Outlines the Chapman mechanism for photolytic production/degradation of ozone and atomic oxygen. This mechanism could not account for lower observed ozone levels in the stratosphere (factor of about 2). Many ozone sinks were discovered that could explain the discrepancy. These sinks primarily consist of catalytic degradation cycles involving hydrogen oxide radicals (HOx), nitrogen oxide radicals (NOx/NOy), chlorine radicals (ClOx/Cly), and in the antarctic spring, ClO dimerization and bromine radicals - both feeding into the ClOx/Cly catalytic cycles. The chapter also discusses the importance of aerosol chemistry in explaining the unexpected ozone loss at midlatitudes in previous decades. Dinitrogen pentoxide rapidly reacts with water on aerosol surfaces to produce nitric acid. This ultimately slows ozone degradation by NOx but increases it by ClOx and HOx cycles."
   ]
  },
  {
   "cell_type": "code",
   "execution_count": null,
   "metadata": {},
   "outputs": [],
   "source": []
  }
 ],
 "metadata": {
  "kernelspec": {
   "display_name": "Python 3",
   "language": "python",
   "name": "python3"
  },
  "language_info": {
   "codemirror_mode": {
    "name": "ipython",
    "version": 3
   },
   "file_extension": ".py",
   "mimetype": "text/x-python",
   "name": "python",
   "nbconvert_exporter": "python",
   "pygments_lexer": "ipython3",
   "version": "3.7.3"
  }
 },
 "nbformat": 4,
 "nbformat_minor": 2
}
